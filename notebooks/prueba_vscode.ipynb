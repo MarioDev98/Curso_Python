{
 "cells": [
  {
   "cell_type": "code",
   "execution_count": 14,
   "metadata": {},
   "outputs": [
    {
     "name": "stdout",
     "output_type": "stream",
     "text": [
      "La suma es = 43\n"
     ]
    }
   ],
   "source": [
    "num1 = 42\n",
    "num2 = 1\n",
    "suma = num1 + num2\n",
    "print(\"La suma es =\", suma)"
   ]
  },
  {
   "cell_type": "code",
   "execution_count": 13,
   "metadata": {},
   "outputs": [
    {
     "name": "stdout",
     "output_type": "stream",
     "text": [
      "hola mundo desde vscode con jupyter notebooks y me llamo Mari2222o Medin2222a\n"
     ]
    }
   ],
   "source": [
    "print(\"hola mundo desde vscode con jupyter notebooks y me llamo Mari2222o Medin2222a\")"
   ]
  }
 ],
 "metadata": {
  "kernelspec": {
   "display_name": "Python 3",
   "language": "python",
   "name": "python3"
  },
  "language_info": {
   "codemirror_mode": {
    "name": "ipython",
    "version": 3
   },
   "file_extension": ".py",
   "mimetype": "text/x-python",
   "name": "python",
   "nbconvert_exporter": "python",
   "pygments_lexer": "ipython3",
   "version": "3.13.1"
  }
 },
 "nbformat": 4,
 "nbformat_minor": 2
}
