{
 "cells": [
  {
   "cell_type": "code",
   "execution_count": 23,
   "metadata": {},
   "outputs": [
    {
     "name": "stdout",
     "output_type": "stream",
     "text": [
      "La raiz cuadrada de 16 es =  4.0\n"
     ]
    }
   ],
   "source": [
    "import math\n",
    "numero = 16\n",
    "resultado_raiz_cuadrada = math.sqrt(numero)\n",
    "print(\"La raiz cuadrada de 16 es = \", resultado_raiz_cuadrada)"
   ]
  },
  {
   "cell_type": "code",
   "execution_count": 18,
   "metadata": {},
   "outputs": [
    {
     "name": "stdout",
     "output_type": "stream",
     "text": [
      "10 dividido entre 4 la parte entera es =  2\n"
     ]
    }
   ],
   "source": [
    "numero1 = 10\n",
    "numero2 = 4\n",
    "resultado_divison_enteros = numero1 // numero2\n",
    "print(\"10 dividido entre 4 la parte entera es = \", resultado_divison_enteros)\n"
   ]
  },
  {
   "cell_type": "code",
   "execution_count": 19,
   "metadata": {},
   "outputs": [
    {
     "name": "stdout",
     "output_type": "stream",
     "text": [
      "El resultado de 2 elevado a 2 es =  1024\n"
     ]
    }
   ],
   "source": [
    "numero_base = 2\n",
    "exponente =  10\n",
    "resultado_potencia = numero_base ** exponente\n",
    "print(\"El resultado de 2 elevado a 2 es = \",resultado_potencia)"
   ]
  },
  {
   "cell_type": "code",
   "execution_count": 20,
   "metadata": {},
   "outputs": [
    {
     "name": "stdout",
     "output_type": "stream",
     "text": [
      "El modulo o residuo  de 10 divido entre 4 es =  2\n"
     ]
    }
   ],
   "source": [
    "numero1 = 10\n",
    "numero2 = 4\n",
    "resultado_modulo = numero1 % numero2\n",
    "print(\"El modulo o residuo  de 10 divido entre 4 es = \", resultado_modulo)"
   ]
  }
 ],
 "metadata": {
  "kernelspec": {
   "display_name": "Python 3",
   "language": "python",
   "name": "python3"
  },
  "language_info": {
   "codemirror_mode": {
    "name": "ipython",
    "version": 3
   },
   "file_extension": ".py",
   "mimetype": "text/x-python",
   "name": "python",
   "nbconvert_exporter": "python",
   "pygments_lexer": "ipython3",
   "version": "3.13.1"
  }
 },
 "nbformat": 4,
 "nbformat_minor": 2
}
