{
 "cells": [
  {
   "cell_type": "code",
   "execution_count": 6,
   "id": "55b4576b-7b83-434e-9d49-6577ce44a3ac",
   "metadata": {},
   "outputs": [
    {
     "name": "stdout",
     "output_type": "stream",
     "text": [
      "Hola mundo\n"
     ]
    }
   ],
   "source": [
    "print(\"Hola mundo\")"
   ]
  },
  {
   "cell_type": "code",
   "execution_count": null,
   "id": "b506c2b5-48c9-4f25-8930-4d001dbd8664",
   "metadata": {},
   "outputs": [],
   "source": [
    "num1 = 2 \n",
    "num2 = 4 \n",
    "suma = num1 + num2\n",
    "print(\"la suma es = \", sum)"
   ]
  }
 ],
 "metadata": {
  "kernelspec": {
   "display_name": "Python 3 (ipykernel)",
   "language": "python",
   "name": "python3"
  },
  "language_info": {
   "codemirror_mode": {
    "name": "ipython",
    "version": 3
   },
   "file_extension": ".py",
   "mimetype": "text/x-python",
   "name": "python",
   "nbconvert_exporter": "python",
   "pygments_lexer": "ipython3",
   "version": "3.13.1"
  }
 },
 "nbformat": 4,
 "nbformat_minor": 5
}
